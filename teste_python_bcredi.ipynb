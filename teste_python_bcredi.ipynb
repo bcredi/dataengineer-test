{
 "cells": [
  {
   "cell_type": "markdown",
   "metadata": {},
   "source": [
    "## BCREDI TECHNICAL TEST - DATA ENGINEER - CHALLENGE 2\n",
    "\n",
    "1. To answer the questions use cells between one question and another.\n",
    "\n",
    "2. To answer the questions, use the Keggle [Electoral Donations in Brazil](https://www.kaggle.com/felipeleiteantunes/electoral-donations-brazil2014) dataset\n",
    "\n",
    "3. The download has a zip file with several files, but we will only use the file: recipes_candidatos_2014_brasil_english.csv\n",
    "\n"
   ]
  },
  {
   "cell_type": "markdown",
   "metadata": {},
   "source": [
    "### 1. Print your name using Python"
   ]
  },
  {
   "cell_type": "code",
   "execution_count": null,
   "metadata": {},
   "outputs": [],
   "source": []
  },
  {
   "cell_type": "markdown",
   "metadata": {},
   "source": [
    "### 2. Creating a new processed file\n",
    "\n",
    "1. File format: \"parquet\"\n",
    "2. Name \"doacoes_por_partido.parquet\"\n",
    "3. Columns:\n",
    "    - Party (Partido Eleitoral) \n",
    "    - State\n",
    "    - DonatedValue - Sum of donations value grouping party and state\n",
    "    - DonatedValuePerState - Sum of all donations grouping only the state\n",
    "    - Percentage - Ratio between the amount donated to each party and the total amount donated by the state\n",
    "\n",
    "\n",
    "\n",
    "#### Based on the information above build a Python code that processes the data in the file \"comes_candidatos_2014_brasil_english.csv \"and generates a new file with only the desired columns."
   ]
  },
  {
   "cell_type": "code",
   "execution_count": null,
   "metadata": {},
   "outputs": [],
   "source": []
  },
  {
   "cell_type": "markdown",
   "metadata": {},
   "source": [
    "### 3. Programming logic\n",
    "\n",
    "A newly opened multinational brand decided to base its company logo on the three most common characters of the company name. They are now testing various combinations of company names and logos based on this condition.\n",
    "Given a string, which is the company name in lower case, your task is to find the first three most common characters in the string.\n",
    "\n",
    "    Print the three most common characters together with your occurrence count.\n",
    "    Sorts in descending order of occurrence count.\n",
    "    If the occurrence count is the same, sort the characters in alphabetical order.\n",
    "\n",
    "For example, according to the conditions described above,\n",
    "\n",
    "GOOGLE\n",
    "\n",
    "it would have its logo with the letters.\n",
    "\n",
    "GOE"
   ]
  },
  {
   "cell_type": "code",
   "execution_count": null,
   "metadata": {},
   "outputs": [],
   "source": []
  },
  {
   "cell_type": "markdown",
   "metadata": {},
   "source": [
    "#### Execute the fields below to validate the created function."
   ]
  },
  {
   "cell_type": "markdown",
   "metadata": {},
   "source": [
    "##### Input: 'aabbbccde' - Expected Output ['b','a','c']"
   ]
  },
  {
   "cell_type": "code",
   "execution_count": null,
   "metadata": {},
   "outputs": [],
   "source": []
  },
  {
   "cell_type": "markdown",
   "metadata": {},
   "source": [
    "##### Input: 'bcredi' - Expected Output: ['b', 'c', 'd']:"
   ]
  },
  {
   "cell_type": "code",
   "execution_count": null,
   "metadata": {},
   "outputs": [],
   "source": []
  },
  {
   "cell_type": "markdown",
   "metadata": {},
   "source": [
    "##### Input 'zzabbce' - Expected Output ['b', 'z', 'a']"
   ]
  },
  {
   "cell_type": "code",
   "execution_count": null,
   "metadata": {},
   "outputs": [],
   "source": []
  },
  {
   "cell_type": "markdown",
   "metadata": {},
   "source": [
    "### 4. Web Scraping"
   ]
  },
  {
   "cell_type": "markdown",
   "metadata": {},
   "source": [
    "- 4.1 Develop an algorithm capable of returning the values **of the highest and lowest lows of the day** on the São Paulo stock exchange. Data to be returned:\n",
    "    - Role name (ex: PETR4)\n",
    "    - Last value\n",
    "    - Variation\n",
    "- Data can be taken from websites\n",
    "    - [O Globo](https://oglobo.globo.com/economia/indicadores/)\n",
    "    - [Infomoney](https://www.infomoney.com.br/)\n",
    "    - [ADVFN](https://br.advfn.com/)"
   ]
  },
  {
   "cell_type": "code",
   "execution_count": null,
   "metadata": {},
   "outputs": [],
   "source": []
  }
 ],
 "metadata": {
  "kernelspec": {
   "display_name": "Python 3",
   "language": "python",
   "name": "python3"
  },
  "language_info": {
   "codemirror_mode": {
    "name": "ipython",
    "version": 3
   },
   "file_extension": ".py",
   "mimetype": "text/x-python",
   "name": "python",
   "nbconvert_exporter": "python",
   "pygments_lexer": "ipython3",
   "version": "3.7.6"
  }
 },
 "nbformat": 4,
 "nbformat_minor": 2
}
